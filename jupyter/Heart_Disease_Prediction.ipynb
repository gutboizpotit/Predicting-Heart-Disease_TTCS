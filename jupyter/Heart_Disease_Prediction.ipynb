{
 "cells": [
  {
   "attachments": {},
   "cell_type": "markdown",
   "metadata": {},
   "source": [
    "# Khai báo các thư viện"
   ]
  },
  {
   "cell_type": "code",
   "execution_count": 21,
   "metadata": {},
   "outputs": [],
   "source": [
    "import pandas as pd\n",
    "import pickle as pk\n",
    "import numpy as np\n",
    "from sklearn.model_selection import train_test_split\n",
    "from sklearn.metrics import accuracy_score\n",
    "from sklearn.tree import DecisionTreeClassifier\n",
    "from sklearn.metrics import confusion_matrix\n",
    "from sklearn.metrics import ConfusionMatrixDisplay\n",
    "from sklearn.ensemble import RandomForestClassifier\n"
   ]
  },
  {
   "attachments": {},
   "cell_type": "markdown",
   "metadata": {},
   "source": [
    "# Đọc dữ liệu đầu vào"
   ]
  },
  {
   "cell_type": "code",
   "execution_count": 22,
   "metadata": {},
   "outputs": [
    {
     "name": "stdout",
     "output_type": "stream",
     "text": [
      "     age  sex  cp  trestbps  chol  fbs  restecg  thalach  exang  oldpeak   \n",
      "0     52    1   0       125   212    0        1      168      0      1.0  \\\n",
      "1     53    1   0       140   203    1        0      155      1      3.1   \n",
      "2     70    1   0       145   174    0        1      125      1      2.6   \n",
      "3     61    1   0       148   203    0        1      161      0      0.0   \n",
      "4     62    0   0       138   294    1        1      106      0      1.9   \n",
      "..   ...  ...  ..       ...   ...  ...      ...      ...    ...      ...   \n",
      "297   68    0   2       120   211    0        0      115      0      1.5   \n",
      "298   44    0   2       108   141    0        1      175      0      0.6   \n",
      "299   52    1   0       128   255    0        1      161      1      0.0   \n",
      "300   59    1   3       160   273    0        0      125      0      0.0   \n",
      "301   54    1   0       120   188    0        1      113      0      1.4   \n",
      "\n",
      "     slope  ca  thal  target  \n",
      "0        2   2     3       0  \n",
      "1        0   0     3       0  \n",
      "2        0   0     3       0  \n",
      "3        2   1     3       0  \n",
      "4        1   3     2       0  \n",
      "..     ...  ..   ...     ...  \n",
      "297      1   0     2       1  \n",
      "298      1   0     2       1  \n",
      "299      2   1     3       0  \n",
      "300      2   0     2       0  \n",
      "301      1   1     3       0  \n",
      "\n",
      "[302 rows x 14 columns]\n"
     ]
    }
   ],
   "source": [
    "df = pd.read_csv(\"../data/heart_new.csv\")\n",
    "print(df)"
   ]
  },
  {
   "attachments": {},
   "cell_type": "markdown",
   "metadata": {},
   "source": [
    "# Phân loại dữ liệu"
   ]
  },
  {
   "cell_type": "code",
   "execution_count": 23,
   "metadata": {},
   "outputs": [
    {
     "name": "stdout",
     "output_type": "stream",
     "text": [
      "(302, 13)\n",
      "(302, 1)\n",
      "(241, 13)\n",
      "(61, 13)\n"
     ]
    }
   ],
   "source": [
    "y = df['target'].values.reshape(-1,1)\n",
    "X = df.drop(columns=['target'])\n",
    "print(X.shape)\n",
    "print(y.shape)\n",
    "\n",
    "X_train, X_test, y_train, y_test = train_test_split(X, y, test_size=0.2)\n",
    "\n",
    "print(X_train.shape)\n",
    "print(X_test.shape)"
   ]
  },
  {
   "attachments": {},
   "cell_type": "markdown",
   "metadata": {},
   "source": [
    "# Kiểm tra tập dữ liệu"
   ]
  },
  {
   "cell_type": "code",
   "execution_count": 24,
   "metadata": {},
   "outputs": [
    {
     "name": "stdout",
     "output_type": "stream",
     "text": [
      "target\n",
      "1    164\n",
      "0    138\n",
      "Name: count, dtype: int64\n"
     ]
    }
   ],
   "source": [
    "print(df['target'].value_counts())"
   ]
  },
  {
   "attachments": {},
   "cell_type": "markdown",
   "metadata": {},
   "source": [
    "# Chạy vòng for tìm cây thích hợp"
   ]
  },
  {
   "cell_type": "code",
   "execution_count": 25,
   "metadata": {},
   "outputs": [
    {
     "name": "stdout",
     "output_type": "stream",
     "text": [
      "1 0.7049180327868853\n",
      "2 0.8032786885245902\n",
      "3 0.7868852459016393\n",
      "4 0.7540983606557377\n",
      "5 0.7868852459016393\n",
      "6 0.7704918032786885\n",
      "7 0.7868852459016393\n",
      "8 0.7540983606557377\n",
      "9 0.7704918032786885\n"
     ]
    }
   ],
   "source": [
    "for i in range(1,10):\n",
    "    clf = DecisionTreeClassifier(max_depth=i)\n",
    "    clf.fit(X_train,y_train)\n",
    "    y_pred = clf.predict(X_test)\n",
    "    print(i, accuracy_score(y_test,y_pred))"
   ]
  },
  {
   "attachments": {},
   "cell_type": "markdown",
   "metadata": {},
   "source": [
    "# Xây dựng model Decision Tree và dự đoán trên tập test"
   ]
  },
  {
   "cell_type": "code",
   "execution_count": 30,
   "metadata": {},
   "outputs": [
    {
     "name": "stdout",
     "output_type": "stream",
     "text": [
      "[[26  6]\n",
      " [ 6 23]]\n"
     ]
    },
    {
     "data": {
      "text/plain": [
       "<sklearn.metrics._plot.confusion_matrix.ConfusionMatrixDisplay at 0x18760960b90>"
      ]
     },
     "execution_count": 30,
     "metadata": {},
     "output_type": "execute_result"
    },
    {
     "data": {
      "image/png": "[encoded data removed]",
      "text/plain": [
       "<Figure size 640x480 with 2 Axes>"
      ]
     },
     "metadata": {},
     "output_type": "display_data"
    }
   ],
   "source": [
    "clf = DecisionTreeClassifier(max_depth=2)\n",
    "clf.fit(X_train,y_train)\n",
    "y_pred = clf.predict(X_test)\n",
    "# print(y_pred)\n",
    "# print(y_test)\n",
    "cm = confusion_matrix(y_test, y_pred)\n",
    "print(cm)\n",
    "ConfusionMatrixDisplay.from_predictions(y_test,y_pred)"
   ]
  },
  {
   "attachments": {},
   "cell_type": "markdown",
   "metadata": {},
   "source": [
    "# Lưu lại model"
   ]
  },
  {
   "cell_type": "code",
   "execution_count": 31,
   "metadata": {},
   "outputs": [],
   "source": [
    "with open(\"../model/dst.pickle\", \"wb\") as f:\n",
    "    pk.dump(clf,f)"
   ]
  },
  {
   "attachments": {},
   "cell_type": "markdown",
   "metadata": {},
   "source": [
    "# Xây dựng model Random Forest và dự đoán trên tập test"
   ]
  },
  {
   "cell_type": "code",
   "execution_count": 32,
   "metadata": {},
   "outputs": [
    {
     "name": "stdout",
     "output_type": "stream",
     "text": [
      "0.819672131147541\n",
      "[[27  5]\n",
      " [ 6 23]]\n"
     ]
    },
    {
     "data": {
      "text/plain": [
       "<sklearn.metrics._plot.confusion_matrix.ConfusionMatrixDisplay at 0x1876097f4d0>"
      ]
     },
     "execution_count": 32,
     "metadata": {},
     "output_type": "execute_result"
    },
    {
     "data": {
      "image/png": "[encoded data removed]",
      "text/plain": [
       "<Figure size 640x480 with 2 Axes>"
      ]
     },
     "metadata": {},
     "output_type": "display_data"
    }
   ],
   "source": [
    "clf1 = RandomForestClassifier()\n",
    "clf1.fit(X_train,y_train.ravel())\n",
    "y_pred = clf1.predict(X_test)\n",
    "print(accuracy_score(y_test,y_pred))\n",
    "cm = confusion_matrix(y_test, y_pred)\n",
    "print(cm)\n",
    "ConfusionMatrixDisplay.from_predictions(y_test,y_pred)"
   ]
  },
  {
   "attachments": {},
   "cell_type": "markdown",
   "metadata": {},
   "source": [
    "# Lưu lại model"
   ]
  },
  {
   "cell_type": "code",
   "execution_count": 33,
   "metadata": {},
   "outputs": [],
   "source": [
    "with open(\"../model/rdfs.pickle\", \"wb\") as f:\n",
    "    pk.dump(clf1,f)\n"
   ]
  }
 ],
 "metadata": {
  "kernelspec": {
   "display_name": "Python 3",
   "language": "python",
   "name": "python3"
  },
  "language_info": {
   "codemirror_mode": {
    "name": "ipython",
    "version": 3
   },
   "file_extension": ".py",
   "mimetype": "text/x-python",
   "name": "python",
   "nbconvert_exporter": "python",
   "pygments_lexer": "ipython3",
   "version": "3.11.3"
  },
  "orig_nbformat": 4
 },
 "nbformat": 4,
 "nbformat_minor": 2
}
